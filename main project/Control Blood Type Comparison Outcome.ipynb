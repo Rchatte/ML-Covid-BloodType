{
 "cells": [
  {
   "cell_type": "code",
   "execution_count": 1,
   "id": "27204dcf",
   "metadata": {},
   "outputs": [],
   "source": [
    "# make a comparison of just the different blood groups\n",
    "# Single Var pred : Only Blood Type and no other features-\n",
    "# Pick the 5 and 10 best features and "
   ]
  },
  {
   "cell_type": "code",
   "execution_count": 2,
   "id": "d6dcfa36",
   "metadata": {},
   "outputs": [
    {
     "name": "stderr",
     "output_type": "stream",
     "text": [
      "C:\\ProgramData\\Anaconda3\\lib\\site-packages\\xgboost\\compat.py:36: FutureWarning: pandas.Int64Index is deprecated and will be removed from pandas in a future version. Use pandas.Index with the appropriate dtype instead.\n",
      "  from pandas import MultiIndex, Int64Index\n"
     ]
    }
   ],
   "source": [
    "import pandas as pd\n",
    "import numpy as np\n",
    "from boruta import BorutaPy\n",
    "from sklearn.ensemble import RandomForestClassifier\n",
    "from sklearn.model_selection import train_test_split\n",
    "from sklearn import metrics\n",
    "from sklearn.metrics import accuracy_score\n",
    "from sklearn.metrics import roc_curve \n",
    "\n",
    "from xgboost import XGBClassifier\n",
    "from sklearn.neighbors import KNeighborsClassifier\n",
    "from sklearn.ensemble import AdaBoostClassifier\n",
    "from sklearn.tree import DecisionTreeClassifier\n",
    "from sklearn.linear_model import LogisticRegression\n",
    "from sklearn import metrics\n",
    "\n",
    "from sklearn.svm import SVC\n",
    "\n",
    "from sklearn.model_selection import KFold, cross_val_score\n",
    "\n",
    "import copy\n",
    "import matplotlib.pyplot as plt\n",
    "from matplotlib.pyplot import figure"
   ]
  },
  {
   "cell_type": "code",
   "execution_count": 3,
   "id": "6bcc0089",
   "metadata": {},
   "outputs": [],
   "source": [
    "unneeded_data = ['Place_of_isolation','Patient_In','Patient_out']\n",
    "catigorical_data=['Blood_Group','CONTROL_blood_group','Risk_Factor']\n",
    "labels = ['Severeity','Outcome']\n",
    "droped_col = unneeded_data+catigorical_data+labels"
   ]
  },
  {
   "cell_type": "code",
   "execution_count": 4,
   "id": "51422a56",
   "metadata": {},
   "outputs": [
    {
     "name": "stdout",
     "output_type": "stream",
     "text": [
      "before (5668, 57)\n",
      "after (5641, 55)\n"
     ]
    }
   ],
   "source": [
    "df = pd.read_csv(\"Covid-19_dataset.csv\",header=1)\n",
    "\n",
    "\n",
    "df['is_Male'] = pd.get_dummies(df['Gender'])['MALE']#one hot encoding gender so male = #1 and female = 0\n",
    "\n",
    "blood_types = pd.get_dummies(df['Blood_Group']).columns\n",
    "blood_group_columns = pd.get_dummies(df[['Blood_Group','CONTROL_blood_group']]).columns\n",
    "\n",
    "\n",
    "df = pd.concat([df, pd.get_dummies(df[['Blood_Group','CONTROL_blood_group','Risk_Factor','Infection_type']])], axis=1)\n",
    "\n",
    "\n",
    "\n",
    "df = df.drop(['Blood_Group','CONTROL_blood_group','Risk_Factor','Infection_type','Gender','Place_of_isolation','Patient_In','Patient_out'],axis=1)\n",
    "\n",
    "columns = df.columns\n",
    "\n",
    "\n",
    "\n",
    "# getting rid of blank values\n",
    "print(\"before\",df.shape)\n",
    "for name in columns:\n",
    "    df = df[df[name] != \" \"]\n",
    "    df = df.dropna()\n",
    "    \n",
    "label_Severeity = df['Severeity'] #Severeity vs Outcome\n",
    "label_Outcome = df['Outcome']\n",
    "df = df.drop(['Severeity','Outcome'],axis=1)\n",
    "\n",
    "\n",
    "df = df.applymap(lambda x: pd.to_numeric(x, errors='coerce'))#strings to numeric\n",
    "all_columns = df.columns\n",
    "# df = df.reset_index()\n",
    "\n",
    "print(\"after\",df.shape)\n",
    "\n",
    "\n",
    "\n"
   ]
  },
  {
   "cell_type": "code",
   "execution_count": 5,
   "id": "832d2bb8",
   "metadata": {},
   "outputs": [],
   "source": [
    "blood_type_labels =[]\n",
    "control_blood_type_labels = []\n",
    "for i in blood_group_columns:\n",
    "    if(\"CONTROL_\" in i):\n",
    "        control_blood_type_labels.append(i)\n",
    "    else:\n",
    "        blood_type_labels.append(i)"
   ]
  },
  {
   "cell_type": "code",
   "execution_count": null,
   "id": "e6d75653",
   "metadata": {},
   "outputs": [],
   "source": []
  },
  {
   "cell_type": "code",
   "execution_count": 6,
   "id": "e1cf2d92",
   "metadata": {},
   "outputs": [],
   "source": [
    "\n",
    "df_CONTROL_blood_data = copy.deepcopy(df[control_blood_type_labels])"
   ]
  },
  {
   "cell_type": "code",
   "execution_count": 7,
   "id": "e24401ac",
   "metadata": {},
   "outputs": [
    {
     "data": {
      "text/html": [
       "<div>\n",
       "<style scoped>\n",
       "    .dataframe tbody tr th:only-of-type {\n",
       "        vertical-align: middle;\n",
       "    }\n",
       "\n",
       "    .dataframe tbody tr th {\n",
       "        vertical-align: top;\n",
       "    }\n",
       "\n",
       "    .dataframe thead th {\n",
       "        text-align: right;\n",
       "    }\n",
       "</style>\n",
       "<table border=\"1\" class=\"dataframe\">\n",
       "  <thead>\n",
       "    <tr style=\"text-align: right;\">\n",
       "      <th></th>\n",
       "      <th>CONTROL_blood_group_A+</th>\n",
       "      <th>CONTROL_blood_group_A-</th>\n",
       "      <th>CONTROL_blood_group_AB+</th>\n",
       "      <th>CONTROL_blood_group_AB-</th>\n",
       "      <th>CONTROL_blood_group_B+</th>\n",
       "      <th>CONTROL_blood_group_B-</th>\n",
       "      <th>CONTROL_blood_group_O+</th>\n",
       "      <th>CONTROL_blood_group_O-</th>\n",
       "    </tr>\n",
       "  </thead>\n",
       "  <tbody>\n",
       "    <tr>\n",
       "      <th>0</th>\n",
       "      <td>0</td>\n",
       "      <td>0</td>\n",
       "      <td>0</td>\n",
       "      <td>0</td>\n",
       "      <td>1</td>\n",
       "      <td>0</td>\n",
       "      <td>0</td>\n",
       "      <td>0</td>\n",
       "    </tr>\n",
       "    <tr>\n",
       "      <th>1</th>\n",
       "      <td>0</td>\n",
       "      <td>0</td>\n",
       "      <td>0</td>\n",
       "      <td>0</td>\n",
       "      <td>1</td>\n",
       "      <td>0</td>\n",
       "      <td>0</td>\n",
       "      <td>0</td>\n",
       "    </tr>\n",
       "    <tr>\n",
       "      <th>2</th>\n",
       "      <td>1</td>\n",
       "      <td>0</td>\n",
       "      <td>0</td>\n",
       "      <td>0</td>\n",
       "      <td>0</td>\n",
       "      <td>0</td>\n",
       "      <td>0</td>\n",
       "      <td>0</td>\n",
       "    </tr>\n",
       "    <tr>\n",
       "      <th>3</th>\n",
       "      <td>0</td>\n",
       "      <td>0</td>\n",
       "      <td>0</td>\n",
       "      <td>0</td>\n",
       "      <td>1</td>\n",
       "      <td>0</td>\n",
       "      <td>0</td>\n",
       "      <td>0</td>\n",
       "    </tr>\n",
       "    <tr>\n",
       "      <th>4</th>\n",
       "      <td>0</td>\n",
       "      <td>0</td>\n",
       "      <td>0</td>\n",
       "      <td>0</td>\n",
       "      <td>1</td>\n",
       "      <td>0</td>\n",
       "      <td>0</td>\n",
       "      <td>0</td>\n",
       "    </tr>\n",
       "    <tr>\n",
       "      <th>...</th>\n",
       "      <td>...</td>\n",
       "      <td>...</td>\n",
       "      <td>...</td>\n",
       "      <td>...</td>\n",
       "      <td>...</td>\n",
       "      <td>...</td>\n",
       "      <td>...</td>\n",
       "      <td>...</td>\n",
       "    </tr>\n",
       "    <tr>\n",
       "      <th>5663</th>\n",
       "      <td>0</td>\n",
       "      <td>0</td>\n",
       "      <td>0</td>\n",
       "      <td>0</td>\n",
       "      <td>0</td>\n",
       "      <td>0</td>\n",
       "      <td>1</td>\n",
       "      <td>0</td>\n",
       "    </tr>\n",
       "    <tr>\n",
       "      <th>5664</th>\n",
       "      <td>0</td>\n",
       "      <td>0</td>\n",
       "      <td>0</td>\n",
       "      <td>0</td>\n",
       "      <td>1</td>\n",
       "      <td>0</td>\n",
       "      <td>0</td>\n",
       "      <td>0</td>\n",
       "    </tr>\n",
       "    <tr>\n",
       "      <th>5665</th>\n",
       "      <td>0</td>\n",
       "      <td>0</td>\n",
       "      <td>0</td>\n",
       "      <td>0</td>\n",
       "      <td>0</td>\n",
       "      <td>0</td>\n",
       "      <td>1</td>\n",
       "      <td>0</td>\n",
       "    </tr>\n",
       "    <tr>\n",
       "      <th>5666</th>\n",
       "      <td>1</td>\n",
       "      <td>0</td>\n",
       "      <td>0</td>\n",
       "      <td>0</td>\n",
       "      <td>0</td>\n",
       "      <td>0</td>\n",
       "      <td>0</td>\n",
       "      <td>0</td>\n",
       "    </tr>\n",
       "    <tr>\n",
       "      <th>5667</th>\n",
       "      <td>0</td>\n",
       "      <td>0</td>\n",
       "      <td>0</td>\n",
       "      <td>0</td>\n",
       "      <td>0</td>\n",
       "      <td>0</td>\n",
       "      <td>1</td>\n",
       "      <td>0</td>\n",
       "    </tr>\n",
       "  </tbody>\n",
       "</table>\n",
       "<p>5641 rows × 8 columns</p>\n",
       "</div>"
      ],
      "text/plain": [
       "      CONTROL_blood_group_A+  CONTROL_blood_group_A-  CONTROL_blood_group_AB+  \\\n",
       "0                          0                       0                        0   \n",
       "1                          0                       0                        0   \n",
       "2                          1                       0                        0   \n",
       "3                          0                       0                        0   \n",
       "4                          0                       0                        0   \n",
       "...                      ...                     ...                      ...   \n",
       "5663                       0                       0                        0   \n",
       "5664                       0                       0                        0   \n",
       "5665                       0                       0                        0   \n",
       "5666                       1                       0                        0   \n",
       "5667                       0                       0                        0   \n",
       "\n",
       "      CONTROL_blood_group_AB-  CONTROL_blood_group_B+  CONTROL_blood_group_B-  \\\n",
       "0                           0                       1                       0   \n",
       "1                           0                       1                       0   \n",
       "2                           0                       0                       0   \n",
       "3                           0                       1                       0   \n",
       "4                           0                       1                       0   \n",
       "...                       ...                     ...                     ...   \n",
       "5663                        0                       0                       0   \n",
       "5664                        0                       1                       0   \n",
       "5665                        0                       0                       0   \n",
       "5666                        0                       0                       0   \n",
       "5667                        0                       0                       0   \n",
       "\n",
       "      CONTROL_blood_group_O+  CONTROL_blood_group_O-  \n",
       "0                          0                       0  \n",
       "1                          0                       0  \n",
       "2                          0                       0  \n",
       "3                          0                       0  \n",
       "4                          0                       0  \n",
       "...                      ...                     ...  \n",
       "5663                       1                       0  \n",
       "5664                       0                       0  \n",
       "5665                       1                       0  \n",
       "5666                       0                       0  \n",
       "5667                       1                       0  \n",
       "\n",
       "[5641 rows x 8 columns]"
      ]
     },
     "execution_count": 7,
     "metadata": {},
     "output_type": "execute_result"
    }
   ],
   "source": [
    "df_CONTROL_blood_data"
   ]
  },
  {
   "cell_type": "code",
   "execution_count": 8,
   "id": "27000a6b",
   "metadata": {},
   "outputs": [
    {
     "data": {
      "text/html": [
       "<div>\n",
       "<style scoped>\n",
       "    .dataframe tbody tr th:only-of-type {\n",
       "        vertical-align: middle;\n",
       "    }\n",
       "\n",
       "    .dataframe tbody tr th {\n",
       "        vertical-align: top;\n",
       "    }\n",
       "\n",
       "    .dataframe thead th {\n",
       "        text-align: right;\n",
       "    }\n",
       "</style>\n",
       "<table border=\"1\" class=\"dataframe\">\n",
       "  <thead>\n",
       "    <tr style=\"text-align: right;\">\n",
       "      <th></th>\n",
       "      <th>CONTROL_blood_group_A+</th>\n",
       "      <th>CONTROL_blood_group_A-</th>\n",
       "      <th>CONTROL_blood_group_AB+</th>\n",
       "      <th>CONTROL_blood_group_AB-</th>\n",
       "      <th>CONTROL_blood_group_B+</th>\n",
       "      <th>CONTROL_blood_group_B-</th>\n",
       "      <th>CONTROL_blood_group_O+</th>\n",
       "      <th>CONTROL_blood_group_O-</th>\n",
       "    </tr>\n",
       "  </thead>\n",
       "  <tbody>\n",
       "    <tr>\n",
       "      <th>0</th>\n",
       "      <td>0</td>\n",
       "      <td>0</td>\n",
       "      <td>0</td>\n",
       "      <td>0</td>\n",
       "      <td>1</td>\n",
       "      <td>0</td>\n",
       "      <td>0</td>\n",
       "      <td>0</td>\n",
       "    </tr>\n",
       "    <tr>\n",
       "      <th>1</th>\n",
       "      <td>0</td>\n",
       "      <td>0</td>\n",
       "      <td>0</td>\n",
       "      <td>0</td>\n",
       "      <td>1</td>\n",
       "      <td>0</td>\n",
       "      <td>0</td>\n",
       "      <td>0</td>\n",
       "    </tr>\n",
       "    <tr>\n",
       "      <th>2</th>\n",
       "      <td>1</td>\n",
       "      <td>0</td>\n",
       "      <td>0</td>\n",
       "      <td>0</td>\n",
       "      <td>0</td>\n",
       "      <td>0</td>\n",
       "      <td>0</td>\n",
       "      <td>0</td>\n",
       "    </tr>\n",
       "    <tr>\n",
       "      <th>3</th>\n",
       "      <td>0</td>\n",
       "      <td>0</td>\n",
       "      <td>0</td>\n",
       "      <td>0</td>\n",
       "      <td>1</td>\n",
       "      <td>0</td>\n",
       "      <td>0</td>\n",
       "      <td>0</td>\n",
       "    </tr>\n",
       "    <tr>\n",
       "      <th>4</th>\n",
       "      <td>0</td>\n",
       "      <td>0</td>\n",
       "      <td>0</td>\n",
       "      <td>0</td>\n",
       "      <td>1</td>\n",
       "      <td>0</td>\n",
       "      <td>0</td>\n",
       "      <td>0</td>\n",
       "    </tr>\n",
       "    <tr>\n",
       "      <th>...</th>\n",
       "      <td>...</td>\n",
       "      <td>...</td>\n",
       "      <td>...</td>\n",
       "      <td>...</td>\n",
       "      <td>...</td>\n",
       "      <td>...</td>\n",
       "      <td>...</td>\n",
       "      <td>...</td>\n",
       "    </tr>\n",
       "    <tr>\n",
       "      <th>5663</th>\n",
       "      <td>0</td>\n",
       "      <td>0</td>\n",
       "      <td>0</td>\n",
       "      <td>0</td>\n",
       "      <td>0</td>\n",
       "      <td>0</td>\n",
       "      <td>1</td>\n",
       "      <td>0</td>\n",
       "    </tr>\n",
       "    <tr>\n",
       "      <th>5664</th>\n",
       "      <td>0</td>\n",
       "      <td>0</td>\n",
       "      <td>0</td>\n",
       "      <td>0</td>\n",
       "      <td>1</td>\n",
       "      <td>0</td>\n",
       "      <td>0</td>\n",
       "      <td>0</td>\n",
       "    </tr>\n",
       "    <tr>\n",
       "      <th>5665</th>\n",
       "      <td>0</td>\n",
       "      <td>0</td>\n",
       "      <td>0</td>\n",
       "      <td>0</td>\n",
       "      <td>0</td>\n",
       "      <td>0</td>\n",
       "      <td>1</td>\n",
       "      <td>0</td>\n",
       "    </tr>\n",
       "    <tr>\n",
       "      <th>5666</th>\n",
       "      <td>1</td>\n",
       "      <td>0</td>\n",
       "      <td>0</td>\n",
       "      <td>0</td>\n",
       "      <td>0</td>\n",
       "      <td>0</td>\n",
       "      <td>0</td>\n",
       "      <td>0</td>\n",
       "    </tr>\n",
       "    <tr>\n",
       "      <th>5667</th>\n",
       "      <td>0</td>\n",
       "      <td>0</td>\n",
       "      <td>0</td>\n",
       "      <td>0</td>\n",
       "      <td>0</td>\n",
       "      <td>0</td>\n",
       "      <td>1</td>\n",
       "      <td>0</td>\n",
       "    </tr>\n",
       "  </tbody>\n",
       "</table>\n",
       "<p>5641 rows × 8 columns</p>\n",
       "</div>"
      ],
      "text/plain": [
       "      CONTROL_blood_group_A+  CONTROL_blood_group_A-  CONTROL_blood_group_AB+  \\\n",
       "0                          0                       0                        0   \n",
       "1                          0                       0                        0   \n",
       "2                          1                       0                        0   \n",
       "3                          0                       0                        0   \n",
       "4                          0                       0                        0   \n",
       "...                      ...                     ...                      ...   \n",
       "5663                       0                       0                        0   \n",
       "5664                       0                       0                        0   \n",
       "5665                       0                       0                        0   \n",
       "5666                       1                       0                        0   \n",
       "5667                       0                       0                        0   \n",
       "\n",
       "      CONTROL_blood_group_AB-  CONTROL_blood_group_B+  CONTROL_blood_group_B-  \\\n",
       "0                           0                       1                       0   \n",
       "1                           0                       1                       0   \n",
       "2                           0                       0                       0   \n",
       "3                           0                       1                       0   \n",
       "4                           0                       1                       0   \n",
       "...                       ...                     ...                     ...   \n",
       "5663                        0                       0                       0   \n",
       "5664                        0                       1                       0   \n",
       "5665                        0                       0                       0   \n",
       "5666                        0                       0                       0   \n",
       "5667                        0                       0                       0   \n",
       "\n",
       "      CONTROL_blood_group_O+  CONTROL_blood_group_O-  \n",
       "0                          0                       0  \n",
       "1                          0                       0  \n",
       "2                          0                       0  \n",
       "3                          0                       0  \n",
       "4                          0                       0  \n",
       "...                      ...                     ...  \n",
       "5663                       1                       0  \n",
       "5664                       0                       0  \n",
       "5665                       1                       0  \n",
       "5666                       0                       0  \n",
       "5667                       1                       0  \n",
       "\n",
       "[5641 rows x 8 columns]"
      ]
     },
     "execution_count": 8,
     "metadata": {},
     "output_type": "execute_result"
    }
   ],
   "source": [
    "df_CONTROL_blood_data"
   ]
  },
  {
   "cell_type": "code",
   "execution_count": 9,
   "id": "a336dd6f",
   "metadata": {},
   "outputs": [],
   "source": [
    "# df_CONTROL_blood_data[df_CONTROL_blood_data['Blood_Group_A+']== 1]"
   ]
  },
  {
   "cell_type": "code",
   "execution_count": 10,
   "id": "6fbfb2ba",
   "metadata": {},
   "outputs": [],
   "source": [
    "\n",
    "\n",
    "# def CrossValAndAUC(model,K=10): \n",
    "#     plt.figure()\n",
    "#     %matplotlib inline\n",
    "\n",
    "#     for bt in control_blood_type_labels:\n",
    "#         Blood_Data = df_CONTROL_blood_data[df_CONTROL_blood_data[bt]== 1]\n",
    "#         y = label_Outcome[df_CONTROL_blood_data[bt]== 1]\n",
    "\n",
    "\n",
    "# #         crossVal_model = copy.deepcopy(model)\n",
    "# #         #10 Fold cross validation\n",
    "# #         kf = KFold(n_splits=K, shuffle=True)\n",
    "# #         scores = cross_val_score(crossVal_model, Blood_Data, y, cv=kf)\n",
    "# #         print(f\" {bt} | {K} Forld cross validation average: {scores.mean()}\")\n",
    "\n",
    "#         model.fit(Blood_Data,y)\n",
    "\n",
    "\n",
    "\n",
    "\n",
    "#         # Training ONLY on the training set to get AUC:\n",
    "#         tempModel = copy.deepcopy(model)\n",
    "#         model.fit(Blood_Data, y)\n",
    "#         predict = model.predict(Blood_Data)\n",
    "#         prob = model.predict_proba(Blood_Data)\n",
    "#         fpr, tpr, thresholds = metrics.roc_curve(y, prob[:,1], pos_label='Recovered')\n",
    "#         AUC = metrics.auc(fpr, tpr)\n",
    "#         print(\"AUC : \",AUC)\n",
    "#         plt.plot(fpr, tpr,label=f\"{bt}: {AUC}\")\n",
    "\n",
    "\n",
    "#     plt.xlabel('False Positive Rate')\n",
    "#     plt.ylabel('True Positive Rate')\n",
    "#     plt.title('ROC Curve')\n",
    "#     plt.figlegend()\n",
    "#     plt.show()\n"
   ]
  },
  {
   "cell_type": "code",
   "execution_count": 11,
   "id": "6a6b765e",
   "metadata": {},
   "outputs": [],
   "source": [
    "def CrossValAndAUC(model,K=10): \n",
    "    plt.figure()\n",
    "    %matplotlib inline\n",
    "\n",
    "    for bt in control_blood_type_labels:\n",
    "        Blood_Data = df_CONTROL_blood_data[df_CONTROL_blood_data[bt]== 1]\n",
    "        y = label_Outcome[df_CONTROL_blood_data[bt]== 1]\n",
    "        \n",
    "        \n",
    "        if(len(y.unique()) == 1):\n",
    "            print(f\"Only {y.unique()[0]} samples for the {bt}\")\n",
    "            continue;\n",
    "\n",
    "\n",
    "        crossVal_model = copy.deepcopy(model)\n",
    "        #10 Fold cross validation\n",
    "        kf = KFold(n_splits=K, shuffle=True)\n",
    "        scores = cross_val_score(crossVal_model, Blood_Data, y, cv=kf)\n",
    "        print(f\" {bt} | {K} Forld cross validation average: {scores.mean()}\")\n",
    "\n",
    "        model.fit(Blood_Data,y)\n",
    "\n",
    "\n",
    "\n",
    "\n",
    "        # Training ONLY on the training set to get AUC:\n",
    "        tempModel = copy.deepcopy(model)\n",
    "        model.fit(Blood_Data, y)\n",
    "        predict = model.predict(Blood_Data)\n",
    "        prob = model.predict_proba(Blood_Data)\n",
    "        fpr, tpr, thresholds = metrics.roc_curve(y, prob[:,1], pos_label='Recovered')\n",
    "        AUC = metrics.auc(fpr, tpr)\n",
    "        print(\"AUC : \",AUC)\n",
    "        plt.plot(fpr, tpr,label=f\"With Blood AUC: {AUC}\")\n",
    "\n",
    "\n",
    "    plt.xlabel('False Positive Rate')\n",
    "    plt.ylabel('True Positive Rate')\n",
    "    plt.title('ROC Curve')\n",
    "    plt.figlegend()\n",
    "    plt.show()\n"
   ]
  },
  {
   "cell_type": "code",
   "execution_count": null,
   "id": "b0c65a0e",
   "metadata": {},
   "outputs": [],
   "source": []
  },
  {
   "cell_type": "code",
   "execution_count": 12,
   "id": "416fe529",
   "metadata": {},
   "outputs": [
    {
     "name": "stdout",
     "output_type": "stream",
     "text": [
      "Logistic Regression\n",
      " CONTROL_blood_group_A+ | 10 Forld cross validation average: 0.9706680369989723\n",
      "AUC :  0.5\n",
      " CONTROL_blood_group_A- | 10 Forld cross validation average: nan\n",
      "AUC :  0.5\n",
      " CONTROL_blood_group_AB+ | 10 Forld cross validation average: 0.9452702702702702\n",
      "AUC :  0.5\n",
      "Only Recovered samples for the CONTROL_blood_group_AB-\n"
     ]
    },
    {
     "name": "stderr",
     "output_type": "stream",
     "text": [
      "C:\\ProgramData\\Anaconda3\\lib\\site-packages\\sklearn\\model_selection\\_validation.py:378: FitFailedWarning: \n",
      "1 fits failed out of a total of 10.\n",
      "The score on these train-test partitions for these parameters will be set to nan.\n",
      "If these failures are not expected, you can try to debug them by setting error_score='raise'.\n",
      "\n",
      "Below are more details about the failures:\n",
      "--------------------------------------------------------------------------------\n",
      "1 fits failed with the following error:\n",
      "Traceback (most recent call last):\n",
      "  File \"C:\\ProgramData\\Anaconda3\\lib\\site-packages\\sklearn\\model_selection\\_validation.py\", line 686, in _fit_and_score\n",
      "    estimator.fit(X_train, y_train, **fit_params)\n",
      "  File \"C:\\ProgramData\\Anaconda3\\lib\\site-packages\\sklearn\\linear_model\\_logistic.py\", line 1183, in fit\n",
      "    raise ValueError(\n",
      "ValueError: This solver needs samples of at least 2 classes in the data, but the data contains only one class: 'Recovered'\n",
      "\n",
      "  warnings.warn(some_fits_failed_message, FitFailedWarning)\n"
     ]
    },
    {
     "name": "stdout",
     "output_type": "stream",
     "text": [
      " CONTROL_blood_group_B+ | 10 Forld cross validation average: 0.9780924204001128\n",
      "AUC :  0.5\n",
      " CONTROL_blood_group_B- | 10 Forld cross validation average: nan\n",
      "AUC :  0.5\n",
      " CONTROL_blood_group_O+ | 10 Forld cross validation average: 0.9613306744017406\n",
      "AUC :  0.5\n"
     ]
    },
    {
     "name": "stderr",
     "output_type": "stream",
     "text": [
      "C:\\ProgramData\\Anaconda3\\lib\\site-packages\\sklearn\\model_selection\\_validation.py:378: FitFailedWarning: \n",
      "1 fits failed out of a total of 10.\n",
      "The score on these train-test partitions for these parameters will be set to nan.\n",
      "If these failures are not expected, you can try to debug them by setting error_score='raise'.\n",
      "\n",
      "Below are more details about the failures:\n",
      "--------------------------------------------------------------------------------\n",
      "1 fits failed with the following error:\n",
      "Traceback (most recent call last):\n",
      "  File \"C:\\ProgramData\\Anaconda3\\lib\\site-packages\\sklearn\\model_selection\\_validation.py\", line 686, in _fit_and_score\n",
      "    estimator.fit(X_train, y_train, **fit_params)\n",
      "  File \"C:\\ProgramData\\Anaconda3\\lib\\site-packages\\sklearn\\linear_model\\_logistic.py\", line 1183, in fit\n",
      "    raise ValueError(\n",
      "ValueError: This solver needs samples of at least 2 classes in the data, but the data contains only one class: 'Recovered'\n",
      "\n",
      "  warnings.warn(some_fits_failed_message, FitFailedWarning)\n"
     ]
    },
    {
     "name": "stdout",
     "output_type": "stream",
     "text": [
      "Only Recovered samples for the CONTROL_blood_group_O-\n"
     ]
    },
    {
     "data": {
      "image/png": "[encoded data removed]",
      "text/plain": [
       "<Figure size 432x288 with 1 Axes>"
      ]
     },
     "metadata": {
      "needs_background": "light"
     },
     "output_type": "display_data"
    }
   ],
   "source": [
    "print(\"Logistic Regression\")\n",
    "my_logreg = LogisticRegression(max_iter=10000)\n",
    "CrossValAndAUC(my_logreg)"
   ]
  },
  {
   "cell_type": "code",
   "execution_count": 13,
   "id": "fa0687c5",
   "metadata": {},
   "outputs": [
    {
     "name": "stdout",
     "output_type": "stream",
     "text": [
      "Decision Tree\n",
      " CONTROL_blood_group_A+ | 10 Forld cross validation average: 0.9706372045220965\n",
      "AUC :  0.5\n",
      " CONTROL_blood_group_A- | 10 Forld cross validation average: 0.975\n",
      "AUC :  0.5\n",
      " CONTROL_blood_group_AB+ | 10 Forld cross validation average: 0.94512012012012\n",
      "AUC :  0.5\n",
      "Only Recovered samples for the CONTROL_blood_group_AB-\n",
      " CONTROL_blood_group_B+ | 10 Forld cross validation average: 0.9780888982812058\n",
      "AUC :  0.5\n",
      " CONTROL_blood_group_B- | 10 Forld cross validation average: 0.99\n",
      "AUC :  0.5\n",
      " CONTROL_blood_group_O+ | 10 Forld cross validation average: 0.9612995959805243\n",
      "AUC :  0.5\n",
      "Only Recovered samples for the CONTROL_blood_group_O-\n"
     ]
    },
    {
     "data": {
      "image/png": "[encoded data removed]",
      "text/plain": [
       "<Figure size 432x288 with 1 Axes>"
      ]
     },
     "metadata": {
      "needs_background": "light"
     },
     "output_type": "display_data"
    }
   ],
   "source": [
    "print(\"Decision Tree\")\n",
    "my_DecisionTree = DecisionTreeClassifier(random_state=4)\n",
    "CrossValAndAUC(my_DecisionTree)"
   ]
  },
  {
   "cell_type": "code",
   "execution_count": 14,
   "id": "283e5581",
   "metadata": {},
   "outputs": [
    {
     "name": "stdout",
     "output_type": "stream",
     "text": [
      "Random Forest Classifier\n",
      " CONTROL_blood_group_A+ | 10 Forld cross validation average: 0.9706628982528264\n",
      "AUC :  0.5\n",
      " CONTROL_blood_group_A- | 10 Forld cross validation average: 0.975\n",
      "AUC :  0.5\n",
      " CONTROL_blood_group_AB+ | 10 Forld cross validation average: 0.9451951951951951\n",
      "AUC :  0.5\n",
      "Only Recovered samples for the CONTROL_blood_group_AB-\n",
      " CONTROL_blood_group_B+ | 10 Forld cross validation average: 0.9780783319244858\n",
      "AUC :  0.5\n",
      " CONTROL_blood_group_B- | 10 Forld cross validation average: 0.99\n",
      "AUC :  0.5\n",
      " CONTROL_blood_group_O+ | 10 Forld cross validation average: 0.961333264270175\n",
      "AUC :  0.5\n",
      "Only Recovered samples for the CONTROL_blood_group_O-\n"
     ]
    },
    {
     "data": {
      "image/png": "[encoded data removed]",
      "text/plain": [
       "<Figure size 432x288 with 1 Axes>"
      ]
     },
     "metadata": {
      "needs_background": "light"
     },
     "output_type": "display_data"
    }
   ],
   "source": [
    "print(\"Random Forest Classifier\")\n",
    "my_RandomForest = RandomForestClassifier(n_estimators=29, bootstrap=True, random_state=4)\n",
    "CrossValAndAUC(my_RandomForest)"
   ]
  },
  {
   "cell_type": "code",
   "execution_count": 15,
   "id": "3bc5818f",
   "metadata": {},
   "outputs": [
    {
     "name": "stdout",
     "output_type": "stream",
     "text": [
      "Ada Boost Classifier\n",
      " CONTROL_blood_group_A+ | 10 Forld cross validation average: 0.9706474820143883\n",
      "AUC :  0.5\n",
      " CONTROL_blood_group_A- | 10 Forld cross validation average: 0.9800000000000001\n",
      "AUC :  0.5\n",
      " CONTROL_blood_group_AB+ | 10 Forld cross validation average: 0.94512012012012\n",
      "AUC :  0.5\n",
      "Only Recovered samples for the CONTROL_blood_group_AB-\n",
      " CONTROL_blood_group_B+ | 10 Forld cross validation average: 0.9780924204001128\n",
      "AUC :  0.5\n",
      " CONTROL_blood_group_B- | 10 Forld cross validation average: 0.99\n",
      "AUC :  0.5\n",
      " CONTROL_blood_group_O+ | 10 Forld cross validation average: 0.9613280845333059\n",
      "AUC :  0.5\n",
      "Only Recovered samples for the CONTROL_blood_group_O-\n"
     ]
    },
    {
     "data": {
      "image/png": "[encoded data removed]",
      "text/plain": [
       "<Figure size 432x288 with 1 Axes>"
      ]
     },
     "metadata": {
      "needs_background": "light"
     },
     "output_type": "display_data"
    }
   ],
   "source": [
    "print(\"Ada Boost Classifier\")\n",
    "my_AdaBoost = AdaBoostClassifier(n_estimators=14, random_state=4)\n",
    "CrossValAndAUC(my_AdaBoost)"
   ]
  },
  {
   "cell_type": "code",
   "execution_count": 16,
   "id": "846ab9f3",
   "metadata": {},
   "outputs": [
    {
     "name": "stdout",
     "output_type": "stream",
     "text": [
      "SVM\n",
      " CONTROL_blood_group_A+ | 10 Forld cross validation average: 0.9706628982528261\n",
      "AUC :  0.5\n",
      " CONTROL_blood_group_A- | 10 Forld cross validation average: nan\n",
      "AUC :  0.5\n"
     ]
    },
    {
     "name": "stderr",
     "output_type": "stream",
     "text": [
      "C:\\ProgramData\\Anaconda3\\lib\\site-packages\\sklearn\\model_selection\\_validation.py:378: FitFailedWarning: \n",
      "1 fits failed out of a total of 10.\n",
      "The score on these train-test partitions for these parameters will be set to nan.\n",
      "If these failures are not expected, you can try to debug them by setting error_score='raise'.\n",
      "\n",
      "Below are more details about the failures:\n",
      "--------------------------------------------------------------------------------\n",
      "1 fits failed with the following error:\n",
      "Traceback (most recent call last):\n",
      "  File \"C:\\ProgramData\\Anaconda3\\lib\\site-packages\\sklearn\\model_selection\\_validation.py\", line 686, in _fit_and_score\n",
      "    estimator.fit(X_train, y_train, **fit_params)\n",
      "  File \"C:\\ProgramData\\Anaconda3\\lib\\site-packages\\sklearn\\svm\\_base.py\", line 182, in fit\n",
      "    y = self._validate_targets(y)\n",
      "  File \"C:\\ProgramData\\Anaconda3\\lib\\site-packages\\sklearn\\svm\\_base.py\", line 739, in _validate_targets\n",
      "    raise ValueError(\n",
      "ValueError: The number of classes has to be greater than one; got 1 class\n",
      "\n",
      "  warnings.warn(some_fits_failed_message, FitFailedWarning)\n"
     ]
    },
    {
     "name": "stdout",
     "output_type": "stream",
     "text": [
      " CONTROL_blood_group_AB+ | 10 Forld cross validation average: 0.9451951951951951\n",
      "AUC :  0.5\n",
      "Only Recovered samples for the CONTROL_blood_group_AB-\n",
      " CONTROL_blood_group_B+ | 10 Forld cross validation average: 0.9780924204001128\n",
      "AUC :  0.5\n",
      " CONTROL_blood_group_B- | 10 Forld cross validation average: nan\n",
      "AUC :  0.5\n"
     ]
    },
    {
     "name": "stderr",
     "output_type": "stream",
     "text": [
      "C:\\ProgramData\\Anaconda3\\lib\\site-packages\\sklearn\\model_selection\\_validation.py:378: FitFailedWarning: \n",
      "1 fits failed out of a total of 10.\n",
      "The score on these train-test partitions for these parameters will be set to nan.\n",
      "If these failures are not expected, you can try to debug them by setting error_score='raise'.\n",
      "\n",
      "Below are more details about the failures:\n",
      "--------------------------------------------------------------------------------\n",
      "1 fits failed with the following error:\n",
      "Traceback (most recent call last):\n",
      "  File \"C:\\ProgramData\\Anaconda3\\lib\\site-packages\\sklearn\\model_selection\\_validation.py\", line 686, in _fit_and_score\n",
      "    estimator.fit(X_train, y_train, **fit_params)\n",
      "  File \"C:\\ProgramData\\Anaconda3\\lib\\site-packages\\sklearn\\svm\\_base.py\", line 182, in fit\n",
      "    y = self._validate_targets(y)\n",
      "  File \"C:\\ProgramData\\Anaconda3\\lib\\site-packages\\sklearn\\svm\\_base.py\", line 739, in _validate_targets\n",
      "    raise ValueError(\n",
      "ValueError: The number of classes has to be greater than one; got 1 class\n",
      "\n",
      "  warnings.warn(some_fits_failed_message, FitFailedWarning)\n"
     ]
    },
    {
     "name": "stdout",
     "output_type": "stream",
     "text": [
      " CONTROL_blood_group_O+ | 10 Forld cross validation average: 0.9613306744017404\n",
      "AUC :  0.5\n",
      "Only Recovered samples for the CONTROL_blood_group_O-\n"
     ]
    },
    {
     "data": {
      "image/png": "[encoded data removed]",
      "text/plain": [
       "<Figure size 432x288 with 1 Axes>"
      ]
     },
     "metadata": {
      "needs_background": "light"
     },
     "output_type": "display_data"
    }
   ],
   "source": [
    "print(\"SVM\")\n",
    "my_svm = SVC(kernel='rbf', probability=True)\n",
    "CrossValAndAUC(my_svm)"
   ]
  },
  {
   "cell_type": "code",
   "execution_count": null,
   "id": "dbd1c3bc",
   "metadata": {},
   "outputs": [],
   "source": []
  }
 ],
 "metadata": {
  "kernelspec": {
   "display_name": "Python 3 (ipykernel)",
   "language": "python",
   "name": "python3"
  },
  "language_info": {
   "codemirror_mode": {
    "name": "ipython",
    "version": 3
   },
   "file_extension": ".py",
   "mimetype": "text/x-python",
   "name": "python",
   "nbconvert_exporter": "python",
   "pygments_lexer": "ipython3",
   "version": "3.8.8"
  }
 },
 "nbformat": 4,
 "nbformat_minor": 5
}
