{
 "cells": [
  {
   "cell_type": "markdown",
   "id": "5dad74cf",
   "metadata": {},
   "source": [
    "# Pearson "
   ]
  },
  {
   "cell_type": "code",
   "execution_count": null,
   "id": "870683e9",
   "metadata": {},
   "outputs": [],
   "source": [
    "import pandas as pd\n",
    "import numpy as np\n",
    "from boruta import BorutaPy\n",
    "from sklearn.ensemble import RandomForestClassifier\n",
    "from sklearn.model_selection import train_test_split\n",
    "from sklearn import metrics\n",
    "from sklearn.metrics import accuracy_score\n",
    "from sklearn.metrics import roc_curve \n",
    "from sklearn.linear_model import LogisticRegression\n",
    "from copy import deepcopy\n",
    "\n",
    "import matplotlib.pyplot as plt\n",
    "from matplotlib.pyplot import figure"
   ]
  },
  {
   "cell_type": "code",
   "execution_count": null,
   "id": "33eda51b",
   "metadata": {},
   "outputs": [],
   "source": [
    "blacklist = ['NONE','age']"
   ]
  },
  {
   "cell_type": "code",
   "execution_count": null,
   "id": "a9cde3a6",
   "metadata": {},
   "outputs": [],
   "source": [
    "df = pd.read_csv(\"Covid-19_dataset.csv\",header=1)\n",
    "\n",
    "\n",
    "df['is_Male'] = pd.get_dummies(df['Gender'])['MALE']#one hot encoding gender so male = #1 and female = 0\n",
    "\n",
    "df = pd.concat([df, pd.get_dummies(df['Blood_Group'])], axis=1)\n",
    "# df = pd.concat([df, pd.get_dummies(df['CONTROL_blood_group'])], axis=1) # needed to remove may not be needed\n",
    "# df = pd.concat([df, pd.get_dummies(df['Risk_Factor'])], axis=1)\n",
    "df = pd.concat([df, pd.get_dummies(df['Infection_type'])], axis=1)\n",
    "\n",
    "blood_types = pd.get_dummies(df['Blood_Group']).columns\n",
    "\n",
    "\n",
    "df = df.drop(['CONTROL_blood_group','Risk_Factor','Infection_type','Gender','Place_of_isolation','Patient_In','Patient_out',' Incubation period (days)'],axis=1)\n",
    "columns = df.columns\n",
    "\n",
    "\n",
    "\n",
    "# getting rid of blank values\n",
    "print(\"before\",len(df))\n",
    "for name in columns:\n",
    "    df = df[df[name] != \" \"]\n",
    "    df = df.dropna()\n",
    "    \n",
    "label_Severeity = df['Severeity'] #Severeity vs Outcome\n",
    "label_Outcome = df[[\"Outcome\"]]\n",
    "\n",
    "\n",
    "\n",
    "\n",
    "\n",
    "df = df.drop(['Severeity','Outcome'],axis=1)\n",
    "\n",
    "\n",
    "blood = pd.DataFrame(df[\"Blood_Group\"])\n",
    "df = df.drop(['Blood_Group'],axis=1)\n",
    "\n",
    "\n",
    "df = df.applymap(lambda x: pd.to_numeric(x, errors='coerce'))\n",
    "\n",
    "df = df.join(blood)\n",
    "columns = df.columns\n",
    "\n",
    "\n",
    "print(\"after\",len(df))\n",
    "\n",
    "df"
   ]
  },
  {
   "cell_type": "code",
   "execution_count": null,
   "id": "33bffd6f",
   "metadata": {},
   "outputs": [],
   "source": [
    "all_features = df.columns"
   ]
  },
  {
   "cell_type": "code",
   "execution_count": null,
   "id": "85a2bcd7",
   "metadata": {},
   "outputs": [],
   "source": [
    "map_mortality = {\"Died\":0,\"Recovered\":1}\n",
    "label_Outcome_mapped = deepcopy(label_Outcome)\n",
    "label_Outcome_mapped['Outcome']=label_Outcome_mapped['Outcome'].map(map_mortality)"
   ]
  },
  {
   "cell_type": "code",
   "execution_count": null,
   "id": "a10c353e",
   "metadata": {},
   "outputs": [],
   "source": [
    "TierOneFeature = ['Age', 'Cyanosis', 'AT', 'COPD', 'DM', 'DMHT', 'HT', 'NONE']\n",
    "TierTwoFeature = ['Sore_throat', 'Diarrhea', 'AP']\n",
    "TierThreeFeature = ['CA', 'Headache', 'ARF', 'CKD', 'COPDDM', 'Cough']\n",
    "\n",
    "coreFeatures = TierOneFeature+TierTwoFeature+TierThreeFeature+['Blood_Group']"
   ]
  },
  {
   "cell_type": "code",
   "execution_count": null,
   "id": "a362a6d9",
   "metadata": {},
   "outputs": [],
   "source": [
    "#temp\n",
    "coreFeatures = all_features\n",
    "coreFeatures = set(coreFeatures) - set(['AT', 'COPD', 'DM', 'DMHT', 'HT', 'NONE', 'AP', 'CA', 'ARF', 'CKD', 'COPDDM'])\n",
    "coreFeatures = list(coreFeatures)"
   ]
  },
  {
   "cell_type": "code",
   "execution_count": null,
   "id": "1b019313",
   "metadata": {},
   "outputs": [],
   "source": [
    "df=df[coreFeatures]"
   ]
  },
  {
   "cell_type": "code",
   "execution_count": null,
   "id": "5172544d",
   "metadata": {},
   "outputs": [],
   "source": [
    "coreFeatures"
   ]
  },
  {
   "cell_type": "code",
   "execution_count": null,
   "id": "f3625894",
   "metadata": {},
   "outputs": [],
   "source": [
    "# df=df.drop(blacklist,axis=1)"
   ]
  },
  {
   "cell_type": "markdown",
   "id": "2c6b25bf",
   "metadata": {},
   "source": [
    "# "
   ]
  },
  {
   "cell_type": "code",
   "execution_count": null,
   "id": "d72ff07f",
   "metadata": {},
   "outputs": [],
   "source": [
    "def rank(predictor,blood_type):\n",
    "    \n",
    "    \n",
    "    \n",
    "    df_temp = df[df['Blood_Group'] == blood_type]\n",
    "    X = df_temp.drop(['Blood_Group'],axis=1)\n",
    "\n",
    "    X = pd.DataFrame(X[predictor])\n",
    "    X['Outcome'] = label_Outcome_mapped\n",
    "    \n",
    "    corr_val = X['Outcome'].corr(X[predictor])\n",
    "    \n",
    "    return corr_val\n",
    "\n",
    "\n",
    "\n",
    "\n",
    "\n",
    "blood_types = [\"A+\",\"A-\",\"AB+\",\"B+\",\"B-\",\"O+\",\"O-\"]\n",
    "\n",
    "dataframes = []\n",
    "\n",
    "BloodType_df = pd.DataFrame()\n",
    "\n",
    "for blood_type in blood_types:\n",
    "    print(blood_type,\"-----------------------\")\n",
    "    list_of_AUC = []\n",
    "    for feature in df.columns:\n",
    "        if feature == \"Blood_Group\":\n",
    "            continue\n",
    "        #[\"Age\",\" Incubation period (days)\",\"Cyanosis\",\"AP\",\"ARF\",\"AT\",\"COPD\",\"DM\",\"DMHT\",\"HT\",\"NONE\"]:\n",
    "        list_of_AUC.append({blood_type+\" Feature\":feature, blood_type+\" Corr\" : rank(feature,blood_type)})\n",
    "\n",
    "        \n",
    "    df_temp = pd.DataFrame(list_of_AUC)\n",
    "    df_temp = df_temp.sort_values(by=[blood_type+' Corr',blood_type+' Feature'], ascending=False)\n",
    "    \n",
    "#     df = df.dropna(axis=0, how='any')\n",
    "    \n",
    "    df_temp = df_temp.reset_index()\n",
    "    \n",
    "    \n",
    "    \n",
    "    dataframes.append(df_temp)\n",
    "    \n",
    "    \n",
    "    BloodType_df[blood_type+' Feature'] = df_temp[blood_type+' Feature']\n",
    "    BloodType_df[blood_type+' Corr'] = df_temp[blood_type+' Corr']\n",
    "    \n",
    "    #print(df_temp)\n",
    "\n",
    "\n",
    "\n",
    "#https://towardsdatascience.com/feature-selection-with-boruta-in-python-676e3877e596\n",
    "\n"
   ]
  },
  {
   "cell_type": "code",
   "execution_count": null,
   "id": "78c3502a",
   "metadata": {},
   "outputs": [],
   "source": [
    "BloodType_df.head(10)"
   ]
  },
  {
   "cell_type": "code",
   "execution_count": null,
   "id": "6982ae6d",
   "metadata": {},
   "outputs": [],
   "source": [
    "def rank(predictor,blood_type):\n",
    "\n",
    "    df_temp = df[df['Blood_Group'] == blood_type]\n",
    "    \n",
    "\n",
    "\n",
    "    X = df_temp.drop(['Blood_Group'],axis=1)\n",
    "\n",
    "\n",
    "    X = pd.DataFrame(X[predictor])\n",
    "    #print(X)\n",
    "    X['Outcome'] = label_Outcome_mapped\n",
    "\n",
    "\n",
    "#     y = label_Outcome[label_Outcome['Blood_Group'] == blood_type]\n",
    "#     y = y[\"Outcome\"]\n",
    "\n",
    "\n",
    "\n",
    "\n",
    "\n",
    "    \n",
    "    corr_val = X['Outcome'].corr(X[predictor])\n",
    "    \n",
    "    return corr_val\n",
    "\n",
    "\n",
    "\n",
    "\n",
    "\n",
    "blood_types = [\"A+\",\"A-\",\"AB+\",\"B+\",\"B-\",\"O+\",\"O-\"]\n",
    "\n",
    "dataframes = []\n",
    "\n",
    "BloodType_df_abs = pd.DataFrame()\n",
    "for blood_type in blood_types:\n",
    "    print(blood_type,\"-----------------------\")\n",
    "    list_of_AUC = []\n",
    "    for feature in df.columns:\n",
    "        if feature == \"Blood_Group\":\n",
    "            continue\n",
    "        #[\"Age\",\" Incubation period (days)\",\"Cyanosis\",\"AP\",\"ARF\",\"AT\",\"COPD\",\"DM\",\"DMHT\",\"HT\",\"NONE\"]:\n",
    "        list_of_AUC.append({blood_type+\" Feature\":feature, blood_type+\" Corr\" : rank(feature,blood_type)})\n",
    "\n",
    "        \n",
    "    df_temp = pd.DataFrame(list_of_AUC)\n",
    "    df_temp[blood_type+' Corr'] = abs(df_temp[blood_type+' Corr'])\n",
    "    \n",
    "    df_temp = df_temp.sort_values(by=[blood_type+' Corr',blood_type+' Feature'], ascending=False)\n",
    "    \n",
    "#     df = df.dropna(axis=0, how='any')\n",
    "    \n",
    "    df_temp = df_temp.reset_index()\n",
    "    \n",
    "    \n",
    "    \n",
    "    dataframes.append(df_temp)\n",
    "    \n",
    "    \n",
    "    \n",
    "\n",
    "    BloodType_df_abs[blood_type+' Feature'] = df_temp[blood_type+' Feature']\n",
    "    BloodType_df_abs[blood_type+' Corr'] = df_temp[blood_type+' Corr']\n",
    "    #print(df_temp)\n",
    "\n",
    "\n",
    "\n",
    "#https://towardsdatascience.com/feature-selection-with-boruta-in-python-676e3877e596\n",
    "\n"
   ]
  },
  {
   "cell_type": "code",
   "execution_count": null,
   "id": "0e1bb498",
   "metadata": {},
   "outputs": [],
   "source": [
    "BloodType_df_abs.top()"
   ]
  },
  {
   "cell_type": "code",
   "execution_count": null,
   "id": "acceca7e",
   "metadata": {},
   "outputs": [],
   "source": [
    "df_topFive = BloodType_df_abs.head(5)"
   ]
  },
  {
   "cell_type": "code",
   "execution_count": null,
   "id": "6c0d63b7",
   "metadata": {},
   "outputs": [],
   "source": []
  },
  {
   "cell_type": "code",
   "execution_count": null,
   "id": "ae5826e9",
   "metadata": {},
   "outputs": [],
   "source": [
    "feature_names = [x for x in BloodType_df.head(8).columns if 'Feature' in x]\n",
    "df_topFive = BloodType_df.head(5)\n",
    "df_topFive = df_topFive[feature_names]\n",
    "df_topFive"
   ]
  },
  {
   "cell_type": "code",
   "execution_count": null,
   "id": "bc3856ae",
   "metadata": {},
   "outputs": [],
   "source": [
    "for i in df_topFive.columns:\n",
    "    print(i,\" : \",list(df_topFive[i]),\",\")"
   ]
  },
  {
   "cell_type": "code",
   "execution_count": null,
   "id": "8a121e92",
   "metadata": {},
   "outputs": [],
   "source": []
  },
  {
   "cell_type": "code",
   "execution_count": null,
   "id": "5a4df220",
   "metadata": {},
   "outputs": [],
   "source": []
  },
  {
   "cell_type": "code",
   "execution_count": null,
   "id": "cae7a5bd",
   "metadata": {},
   "outputs": [],
   "source": []
  }
 ],
 "metadata": {
  "interpreter": {
   "hash": "4af573dd1f703eda5d2dca7ad60e8e0273d281709f4f19d2a55672e221b1a296"
  },
  "kernelspec": {
   "display_name": "Python 3 (ipykernel)",
   "language": "python",
   "name": "python3"
  },
  "language_info": {
   "codemirror_mode": {
    "name": "ipython",
    "version": 3
   },
   "file_extension": ".py",
   "mimetype": "text/x-python",
   "name": "python",
   "nbconvert_exporter": "python",
   "pygments_lexer": "ipython3",
   "version": "3.8.8"
  }
 },
 "nbformat": 4,
 "nbformat_minor": 5
}
