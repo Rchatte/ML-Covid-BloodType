{
 "cells": [
  {
   "cell_type": "code",
   "execution_count": 1,
   "id": "746a0678",
   "metadata": {},
   "outputs": [],
   "source": [
    "# make a comparison of just the different blood groups\n",
    "# Single Var pred : Only Blood Type and no other features-\n",
    "# Pick the 5 and 10 best features and "
   ]
  },
  {
   "cell_type": "code",
   "execution_count": 2,
   "id": "9aa8603b",
   "metadata": {},
   "outputs": [
    {
     "name": "stderr",
     "output_type": "stream",
     "text": [
      "C:\\ProgramData\\Anaconda3\\lib\\site-packages\\xgboost\\compat.py:36: FutureWarning: pandas.Int64Index is deprecated and will be removed from pandas in a future version. Use pandas.Index with the appropriate dtype instead.\n",
      "  from pandas import MultiIndex, Int64Index\n"
     ]
    }
   ],
   "source": [
    "import pandas as pd\n",
    "import numpy as np\n",
    "from boruta import BorutaPy\n",
    "from sklearn.ensemble import RandomForestClassifier\n",
    "from sklearn.model_selection import train_test_split\n",
    "from sklearn import metrics\n",
    "from sklearn.metrics import accuracy_score\n",
    "from sklearn.metrics import roc_curve \n",
    "\n",
    "from xgboost import XGBClassifier\n",
    "from sklearn.neighbors import KNeighborsClassifier\n",
    "from sklearn.ensemble import AdaBoostClassifier\n",
    "from sklearn.tree import DecisionTreeClassifier\n",
    "from sklearn.linear_model import LogisticRegression\n",
    "from sklearn import metrics\n",
    "\n",
    "from sklearn.svm import SVC\n",
    "\n",
    "from sklearn.model_selection import KFold, cross_val_score\n",
    "\n",
    "import copy\n",
    "import matplotlib.pyplot as plt\n",
    "from matplotlib.pyplot import figure"
   ]
  },
  {
   "cell_type": "code",
   "execution_count": 3,
   "id": "9a136c69",
   "metadata": {},
   "outputs": [],
   "source": [
    "unneeded_data = ['Place_of_isolation','Patient_In','Patient_out']\n",
    "catigorical_data=['Blood_Group','CONTROL_blood_group','Risk_Factor']\n",
    "labels = ['Severeity','Outcome']\n",
    "droped_col = unneeded_data+catigorical_data+labels"
   ]
  },
  {
   "cell_type": "code",
   "execution_count": 4,
   "id": "aea9d768",
   "metadata": {},
   "outputs": [
    {
     "ename": "NameError",
     "evalue": "name 'df' is not defined",
     "output_type": "error",
     "traceback": [
      "\u001b[1;31m---------------------------------------------------------------------------\u001b[0m",
      "\u001b[1;31mNameError\u001b[0m                                 Traceback (most recent call last)",
      "Input \u001b[1;32mIn [4]\u001b[0m, in \u001b[0;36m<cell line: 1>\u001b[1;34m()\u001b[0m\n\u001b[1;32m----> 1\u001b[0m bltdf \u001b[38;5;241m=\u001b[39m pd\u001b[38;5;241m.\u001b[39mget_dummies(\u001b[43mdf\u001b[49m[[\u001b[38;5;124m'\u001b[39m\u001b[38;5;124mBlood_Group\u001b[39m\u001b[38;5;124m'\u001b[39m,\u001b[38;5;124m'\u001b[39m\u001b[38;5;124mCONTROL_blood_group\u001b[39m\u001b[38;5;124m'\u001b[39m,\u001b[38;5;124m'\u001b[39m\u001b[38;5;124mRisk_Factor\u001b[39m\u001b[38;5;124m'\u001b[39m,\u001b[38;5;124m'\u001b[39m\u001b[38;5;124mInfection_type\u001b[39m\u001b[38;5;124m'\u001b[39m]])\n",
      "\u001b[1;31mNameError\u001b[0m: name 'df' is not defined"
     ]
    }
   ],
   "source": []
  },
  {
   "cell_type": "code",
   "execution_count": null,
   "id": "ed46f963",
   "metadata": {},
   "outputs": [],
   "source": [
    "df = pd.read_csv(\"Covid-19_dataset.csv\",header=1)\n",
    "\n",
    "\n",
    "df['is_Male'] = pd.get_dummies(df['Gender'])['MALE']#one hot encoding gender so male = #1 and female = 0\n",
    "\n",
    "blood_types = pd.get_dummies(df['Blood_Group']).columns\n",
    "blood_group_columns = pd.get_dummies(df[['Blood_Group','CONTROL_blood_group']]).columns\n",
    "\n",
    "\n",
    "df = pd.concat([df, pd.get_dummies(df[['Blood_Group','CONTROL_blood_group','Risk_Factor','Infection_type']])], axis=1)\n",
    "\n",
    "\n",
    "\n",
    "df = df.drop(['Blood_Group','CONTROL_blood_group','Risk_Factor','Infection_type','Gender','Place_of_isolation','Patient_In','Patient_out'],axis=1)\n",
    "\n",
    "columns = df.columns\n",
    "\n",
    "\n",
    "\n",
    "# getting rid of blank values\n",
    "print(\"before\",df.shape)\n",
    "for name in columns:\n",
    "    df = df[df[name] != \" \"]\n",
    "    df = df.dropna()\n",
    "    \n",
    "label_Severeity = df['Severeity'] #Severeity vs Outcome\n",
    "label_Outcome = df['Outcome']\n",
    "df = df.drop(['Severeity','Outcome'],axis=1)\n",
    "\n",
    "\n",
    "df = df.applymap(lambda x: pd.to_numeric(x, errors='coerce'))#strings to numeric\n",
    "all_columns = df.columns\n",
    "# df = df.reset_index()\n",
    "\n",
    "print(\"after\",df.shape)\n",
    "\n",
    "\n",
    "\n"
   ]
  },
  {
   "cell_type": "code",
   "execution_count": null,
   "id": "e402c50d",
   "metadata": {},
   "outputs": [],
   "source": [
    "blood_type_labels =[]\n",
    "control_blood_type_labels = []\n",
    "for i in blood_group_columns:\n",
    "    if(\"CONTROL_\" in i):\n",
    "        control_blood_type_labels.append(i)\n",
    "    else:\n",
    "        blood_type_labels.append(i)"
   ]
  },
  {
   "cell_type": "code",
   "execution_count": null,
   "id": "2e704aa3",
   "metadata": {},
   "outputs": [],
   "source": []
  },
  {
   "cell_type": "code",
   "execution_count": null,
   "id": "40c80390",
   "metadata": {},
   "outputs": [],
   "source": [
    "df_blood_data = copy.deepcopy(df[blood_type_labels])\n",
    "df_CONTROL_blood_data = copy.deepcopy(df[control_blood_type_labels])"
   ]
  },
  {
   "cell_type": "code",
   "execution_count": null,
   "id": "2aff2c5a",
   "metadata": {},
   "outputs": [],
   "source": [
    "df_blood_data"
   ]
  },
  {
   "cell_type": "code",
   "execution_count": null,
   "id": "f2a08b1f",
   "metadata": {},
   "outputs": [],
   "source": [
    "df_CONTROL_blood_data"
   ]
  },
  {
   "cell_type": "code",
   "execution_count": null,
   "id": "3c31f7b1",
   "metadata": {},
   "outputs": [],
   "source": [
    "df_blood_data[df_blood_data['Blood_Group_A+']== 1]"
   ]
  },
  {
   "cell_type": "code",
   "execution_count": null,
   "id": "a858585c",
   "metadata": {},
   "outputs": [],
   "source": [
    "def CrossValAndAUC(model,K=10): \n",
    "    plt.figure()\n",
    "    %matplotlib inline\n",
    "    \n",
    "    for bt in blood_type_labels:\n",
    "        Blood_Data = df_blood_data[df_blood_data[bt]== 1]\n",
    "        y = label_Outcome[df_blood_data[bt]== 1]\n",
    "\n",
    "        X_train, X_test, y_train, y_test = train_test_split(Blood_Data, y, test_size=0.25, random_state=1)\n",
    "        \n",
    "        if(len(y_train.unique()) == 1 or len(y_test.unique()) == 1):\n",
    "            continue\n",
    "\n",
    "        # Training ONLY on the training set to get AUC:\n",
    "        tempModel = copy.deepcopy(model)\n",
    "        model.fit(X_train, y_train)\n",
    "        \n",
    "        prob = model.predict_proba(X_test)\n",
    "        fpr, tpr, thresholds = metrics.roc_curve(y_test, prob[:,1], pos_label='Recovered')\n",
    "        AUC = metrics.auc(fpr, tpr)\n",
    "        print(\"AUC : \",AUC)\n",
    "        plt.plot(fpr, tpr,label=f\"With Blood AUC: {AUC}\")\n",
    "\n",
    "\n",
    "    plt.xlabel('False Positive Rate')\n",
    "    plt.ylabel('True Positive Rate')\n",
    "    plt.title('ROC Curve')\n",
    "    plt.figlegend()\n",
    "    plt.show()\n"
   ]
  },
  {
   "cell_type": "code",
   "execution_count": null,
   "id": "05ff2f1f",
   "metadata": {},
   "outputs": [],
   "source": []
  },
  {
   "cell_type": "code",
   "execution_count": null,
   "id": "0bf742f1",
   "metadata": {},
   "outputs": [],
   "source": [
    "print(\"Logistic Regression\")\n",
    "my_logreg = LogisticRegression(max_iter=10000)\n",
    "CrossValAndAUC(my_logreg)"
   ]
  },
  {
   "cell_type": "code",
   "execution_count": null,
   "id": "0f65fb54",
   "metadata": {},
   "outputs": [],
   "source": [
    "print(\"Decision Tree\")\n",
    "my_DecisionTree = DecisionTreeClassifier(random_state=4)\n",
    "CrossValAndAUC(my_DecisionTree)"
   ]
  },
  {
   "cell_type": "code",
   "execution_count": null,
   "id": "1f91153e",
   "metadata": {},
   "outputs": [],
   "source": [
    "print(\"Random Forest Classifier\")\n",
    "my_RandomForest = RandomForestClassifier(n_estimators=29, bootstrap=True, random_state=4)\n",
    "CrossValAndAUC(my_RandomForest)"
   ]
  },
  {
   "cell_type": "code",
   "execution_count": null,
   "id": "7748066d",
   "metadata": {},
   "outputs": [],
   "source": [
    "print(\"Ada Boost Classifier\")\n",
    "my_AdaBoost = AdaBoostClassifier(n_estimators=14, random_state=4)\n",
    "CrossValAndAUC(my_AdaBoost)"
   ]
  },
  {
   "cell_type": "code",
   "execution_count": null,
   "id": "37de897b",
   "metadata": {},
   "outputs": [],
   "source": [
    "print(\"SVM\")\n",
    "my_svm = SVC(kernel='rbf', probability=True)\n",
    "CrossValAndAUC(my_svm)"
   ]
  },
  {
   "cell_type": "code",
   "execution_count": null,
   "id": "c93412c3",
   "metadata": {},
   "outputs": [],
   "source": []
  },
  {
   "cell_type": "code",
   "execution_count": null,
   "id": "5db35201",
   "metadata": {},
   "outputs": [],
   "source": [
    "\n",
    "\n",
    "# def CrossValAndAUC(model,K=10): \n",
    "#     plt.figure()\n",
    "#     %matplotlib inline\n",
    "\n",
    "#     for bt in blood_type_labels:\n",
    "#         Blood_Data = df_blood_data[df_blood_data[bt]== 1]\n",
    "#         y = label_Outcome[df_blood_data[bt]== 1]\n",
    "        \n",
    "        \n",
    "#         if(len(y.unique()) == 1):\n",
    "#             print(f\"Only {y.unique()[0]} samples for the {bt}\")\n",
    "#             continue;\n",
    "\n",
    "\n",
    "# #         crossVal_model = copy.deepcopy(model)\n",
    "# #         #10 Fold cross validation\n",
    "# #         kf = KFold(n_splits=K, shuffle=True)\n",
    "# #         scores = cross_val_score(crossVal_model, Blood_Data, y, cv=kf)\n",
    "# #         print(f\" {bt} | {K} Forld cross validation average: {scores.mean()}\")\n",
    "\n",
    "#         model.fit(Blood_Data,y)\n",
    "\n",
    "\n",
    "\n",
    "\n",
    "#         # Training ONLY on the training set to get AUC:\n",
    "#         tempModel = copy.deepcopy(model)\n",
    "#         model.fit(Blood_Data, y)\n",
    "#         predict = model.predict(Blood_Data)\n",
    "#         prob = model.predict_proba(Blood_Data)\n",
    "#         fpr, tpr, thresholds = metrics.roc_curve(y, prob[:,1], pos_label='Recovered')\n",
    "#         AUC = metrics.auc(fpr, tpr)\n",
    "#         print(\"AUC : \",AUC)\n",
    "#         plt.plot(fpr, tpr,label=f\"{bt}: {AUC}\")\n",
    "\n",
    "\n",
    "#     plt.xlabel('False Positive Rate')\n",
    "#     plt.ylabel('True Positive Rate')\n",
    "#     plt.title('ROC Curve')\n",
    "#     plt.figlegend()\n",
    "#     plt.show()\n"
   ]
  },
  {
   "cell_type": "code",
   "execution_count": null,
   "id": "a49f4587",
   "metadata": {},
   "outputs": [],
   "source": []
  },
  {
   "cell_type": "code",
   "execution_count": null,
   "id": "818d0d9f",
   "metadata": {},
   "outputs": [],
   "source": []
  },
  {
   "cell_type": "code",
   "execution_count": null,
   "id": "69ac847b",
   "metadata": {},
   "outputs": [],
   "source": []
  }
 ],
 "metadata": {
  "kernelspec": {
   "display_name": "Python 3 (ipykernel)",
   "language": "python",
   "name": "python3"
  },
  "language_info": {
   "codemirror_mode": {
    "name": "ipython",
    "version": 3
   },
   "file_extension": ".py",
   "mimetype": "text/x-python",
   "name": "python",
   "nbconvert_exporter": "python",
   "pygments_lexer": "ipython3",
   "version": "3.8.8"
  }
 },
 "nbformat": 4,
 "nbformat_minor": 5
}
